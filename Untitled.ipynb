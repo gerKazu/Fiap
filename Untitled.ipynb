{
 "cells": [
  {
   "cell_type": "code",
   "execution_count": 16,
   "metadata": {},
   "outputs": [
    {
     "name": "stdout",
     "output_type": "stream",
     "text": [
      "@ @ @ @ @ @ @ @ @ @ @ @ @ @ @ \n",
      "@                           @ \n",
      "@                           @ \n",
      "@                           @ \n",
      "@                           @ \n",
      "@                           @ \n",
      "@                           @ \n",
      "@                           @ \n",
      "@                           @ \n",
      "@                           @ \n",
      "@                           @ \n",
      "@                           @ \n",
      "@                           @ \n",
      "@                           @ \n",
      "@ @ @ @ @ @ @ @ @ @ @ @ @ @ @ \n"
     ]
    }
   ],
   "source": [
    "square_size = 15\n",
    "line = \"\"\n",
    "for i in range(square_size):\n",
    "    for j in range(square_size):\n",
    "        if (i == 0 or i == square_size - 1) or (j == 0 or j == square_size - 1):\n",
    "            line = line + \"@ \"\n",
    "        else:\n",
    "            line = line + \"  \"\n",
    "    print(line)\n",
    "    line = \"\""
   ]
  }
 ],
 "metadata": {
  "kernelspec": {
   "display_name": "Python 3",
   "language": "python",
   "name": "python3"
  },
  "language_info": {
   "codemirror_mode": {
    "name": "ipython",
    "version": 3
   },
   "file_extension": ".py",
   "mimetype": "text/x-python",
   "name": "python",
   "nbconvert_exporter": "python",
   "pygments_lexer": "ipython3",
   "version": "3.7.3"
  }
 },
 "nbformat": 4,
 "nbformat_minor": 2
}
