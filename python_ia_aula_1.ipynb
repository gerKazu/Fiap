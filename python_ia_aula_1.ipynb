{
 "cells": [
  {
   "cell_type": "markdown",
   "metadata": {},
   "source": [
    "# Exercícios"
   ]
  },
  {
   "cell_type": "markdown",
   "metadata": {},
   "source": [
    "## 1) Inicie uma variável com o valor “josé da silva martins” e converta para o formato “José Da Silva Martins”, com uma única operação. Utilize string e/ou capwords.\n"
   ]
  },
  {
   "cell_type": "code",
   "execution_count": 2,
   "metadata": {},
   "outputs": [
    {
     "name": "stdout",
     "output_type": "stream",
     "text": [
      "José Da Silva Martins\n"
     ]
    }
   ],
   "source": [
    "# resposta 1\n",
    "nome = \"josé da silva martins\"\n",
    "print(nome.title())"
   ]
  },
  {
   "cell_type": "markdown",
   "metadata": {},
   "source": [
    "## 2) Crie uma função que verifique se um determinado número é ímpar, sendo ímpar deverá retornar verdadeiro e falso o contrário."
   ]
  },
  {
   "cell_type": "code",
   "execution_count": 3,
   "metadata": {},
   "outputs": [
    {
     "name": "stdout",
     "output_type": "stream",
     "text": [
      "True\n"
     ]
    }
   ],
   "source": [
    "# resposta 2\n",
    "def isOdd(number):\n",
    "    return number % 2 != 0\n",
    "print(isOdd(3))"
   ]
  },
  {
   "cell_type": "markdown",
   "metadata": {},
   "source": [
    "## 3) Dado uma lista l = [1.2232, 2.322, 43.23131, 6.34324, 78.3243] transforme seus valores para que ao final tenhamos números arrendados na segunda casa decimal. Utilize a função built-in round(numero, casas_decimais)\n"
   ]
  },
  {
   "cell_type": "code",
   "execution_count": 4,
   "metadata": {},
   "outputs": [
    {
     "data": {
      "text/plain": [
       "[1.22, 2.32, 43.23, 6.34, 78.32]"
      ]
     },
     "execution_count": 4,
     "metadata": {},
     "output_type": "execute_result"
    }
   ],
   "source": [
    "# resposta 3\n",
    "[round(i,2) for i in  [1.2232, 2.322, 43.23131, 6.34324, 78.3243]]"
   ]
  },
  {
   "cell_type": "markdown",
   "metadata": {},
   "source": [
    "## 4) Crie uma função que retorne na forma de um dicionário as seguintes informações do texto abaixo: número de palavras (e palavras), número de números (e números) e número de frases (e frases). Utilize a função built-in isdigit() do pacote string para verificar se determinado caractere é número e split(separador) para criar uma lista a partir do caracatere ou token de separação."
   ]
  },
  {
   "cell_type": "raw",
   "metadata": {},
   "source": [
    "Brasil, oficialmente República Federativa do Brasil é o maior país da América do Sul e da região da América Latina, sendo o quinto maior do mundo em área territorial (equivalente a 47 porcento do território sul-americano) e sexto em população (com mais de 200 milhões de habitantes). É o único país na América onde se fala majoritariamente a língua portuguesa e o maior país lusófono do planeta, além de ser uma das nações mais multiculturais e etnicamente diversas, em decorrência da forte imigração oriunda de variados locais do mundo."
   ]
  },
  {
   "cell_type": "code",
   "execution_count": 36,
   "metadata": {},
   "outputs": [
    {
     "name": "stdout",
     "output_type": "stream",
     "text": [
      "{'number_of_words': 88, 'number_of_phrases': 2, 'number_of_numbers': 2}\n"
     ]
    }
   ],
   "source": [
    "## resposta 4\n",
    "text = \"Brasil, oficialmente República Federativa do Brasil é o maior país da América do Sul e da região da América Latina, \\\n",
    "sendo o quinto maior do mundo em área territorial (equivalente a 47 porcento do território sul-americano) e sexto em população \\\n",
    "(com mais de 200 milhões de habitantes). É o único país na América onde se fala majoritariamente a língua portuguesa e o maior país \\\n",
    "lusófono do planeta, além de ser uma das nações mais multiculturais e etnicamente diversas, em decorrência da forte imigração oriunda de\\\n",
    "variados locais do mundo.\"\n",
    "def classify_text(text):\n",
    "    list_of_numbers = []\n",
    "    [list_of_numbers.append(d) if d.isdigit() else '' for d in list_of_words]\n",
    "    return {\n",
    "            \"number_of_words\" : len(text.split(\" \")),\n",
    "            \"number_of_phrases\" : len(text.split(\". \")),\n",
    "            \"number_of_numbers\" : len(list_of_numbers)\n",
    "    }\n",
    "print(classify_text(text))"
   ]
  },
  {
   "cell_type": "markdown",
   "metadata": {},
   "source": [
    "## 5) Implemente um algoritmo que calcule o fatorial de número de modo não-recursivo"
   ]
  },
  {
   "cell_type": "code",
   "execution_count": 13,
   "metadata": {},
   "outputs": [
    {
     "name": "stdout",
     "output_type": "stream",
     "text": [
      "120\n"
     ]
    }
   ],
   "source": [
    "# resposta 5\n",
    "def factorial(numero):\n",
    "    controle = numero\n",
    "    while controle > 1:\n",
    "        controle -= 1\n",
    "        numero *= controle    \n",
    "    return numero\n",
    "print(factorial(5))\n",
    "        "
   ]
  },
  {
   "cell_type": "markdown",
   "metadata": {},
   "source": [
    "## 6) Implemente duas funções:\n",
    "> Uma que converta graus Celsius para Fahrenheit\n",
    "\n",
    "> Outra que converta graus Fahrenheit para Celsius\n",
    "\n",
    "> 𝐹=  9/5×𝐶+32"
   ]
  },
  {
   "cell_type": "code",
   "execution_count": 8,
   "metadata": {},
   "outputs": [
    {
     "name": "stdout",
     "output_type": "stream",
     "text": [
      "100 ºC em Fahrenheit é 212.0 ºF\n",
      "212ºC em Celsius é 100.0 ºC\n"
     ]
    }
   ],
   "source": [
    "# resposta 6\n",
    "def celsius_to_fahrenheit(C):\n",
    "    return ((9*C)/5) + 32\n",
    "def fahrenheit_to_celsius(F):\n",
    "    return (5/9)*(F-32)\n",
    "\n",
    "print('100 ºC em Fahrenheit é {} ºF'.format(celsius_to_fahrenheit(100)))\n",
    "print('212ºF em Celsius é {} ºC'.format(fahrenheit_to_celsius(212)))\n",
    "    "
   ]
  },
  {
   "cell_type": "markdown",
   "metadata": {},
   "source": [
    "## 7) Implemente uma função que receba uma lista com 100 números, de 0 a 100, e retorne outra lista contendo apenas os números primos. \n",
    "    > Use numpy.arange para gerar a lista"
   ]
  },
  {
   "cell_type": "code",
   "execution_count": 39,
   "metadata": {},
   "outputs": [
    {
     "name": "stdout",
     "output_type": "stream",
     "text": [
      "[2, 3, 5, 7, 11, 13, 17, 19, 23, 29, 31, 37, 41, 43, 47, 53, 59, 61, 67, 71, 73, 79, 83, 89, 97]\n"
     ]
    }
   ],
   "source": [
    "# resposta 7\n",
    "import numpy as np\n",
    "\n",
    "#inicializacao de variáveis\n",
    "primes = []\n",
    "not_prime_idx = []\n",
    "\n",
    "# define limite para qual se quer saber todos os primos menores que ele\n",
    "limit = 100 + 1\n",
    "# array com números de 0 a 100\n",
    "array = np.arange(limit)\n",
    "\n",
    "#retira-se 0 e 1 do conjunto pois estes nao sao primos por definicao\n",
    "array = np.delete(array,[0,1])\n",
    "\n",
    "#definicao dos indices dos numeros nao primos\n",
    "for element in array:\n",
    "    i = 2\n",
    "    #encontrando os indices dos multiplos do elemento que sao menores que o limite\n",
    "    while i * element < limit:\n",
    "        index = np.argwhere(array == i * element)\n",
    "        i += 1\n",
    "        not_prime_idx.append(index[0][0]) if not index[0][0] in not_prime_idx else _\n",
    "\n",
    "#array to numpy array\n",
    "not_prime_idx = np.array(not_prime_idx)\n",
    "\n",
    "#encontrando os indices dos numeros primos pela diferenca dos indices originais com os indices dos nao primos\n",
    "prime_idx = np.setdiff1d(np.arange(99),not_prime_idx)\n",
    "\n",
    "#insere numero primo pelo indice dele no conjunto original\n",
    "[primes.append(array[i]) for i in prime_idx]\n",
    "\n",
    "#resultado    \n",
    "print(primes)"
   ]
  }
 ],
 "metadata": {
  "kernelspec": {
   "display_name": "Python 3",
   "language": "python",
   "name": "python3"
  },
  "language_info": {
   "codemirror_mode": {
    "name": "ipython",
    "version": 3
   },
   "file_extension": ".py",
   "mimetype": "text/x-python",
   "name": "python",
   "nbconvert_exporter": "python",
   "pygments_lexer": "ipython3",
   "version": "3.7.3"
  }
 },
 "nbformat": 4,
 "nbformat_minor": 2
}
